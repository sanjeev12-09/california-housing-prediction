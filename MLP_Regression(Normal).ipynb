{
  "nbformat": 4,
  "nbformat_minor": 0,
  "metadata": {
    "colab": {
      "name": "MLP_Regression(Normal).ipynb",
      "provenance": [],
      "collapsed_sections": [],
      "authorship_tag": "ABX9TyOcv3i1v0hhvD0ZYoXIx5wC",
      "include_colab_link": true
    },
    "kernelspec": {
      "name": "python3",
      "display_name": "Python 3"
    },
    "language_info": {
      "name": "python"
    }
  },
  "cells": [
    {
      "cell_type": "markdown",
      "metadata": {
        "id": "view-in-github",
        "colab_type": "text"
      },
      "source": [
        "<a href=\"https://colab.research.google.com/github/sanjeev12-09/california-housing-prediction/blob/main/MLP_Regression(Normal).ipynb\" target=\"_parent\"><img src=\"https://colab.research.google.com/assets/colab-badge.svg\" alt=\"Open In Colab\"/></a>"
      ]
    },
    {
      "cell_type": "markdown",
      "source": [
        "# Importing Libraries"
      ],
      "metadata": {
        "id": "WCkmFTj-SeOD"
      }
    },
    {
      "cell_type": "code",
      "execution_count": 1,
      "metadata": {
        "id": "lkmH5ipuSQ19"
      },
      "outputs": [],
      "source": [
        "import numpy as np\n",
        "import pandas as pd\n",
        "import matplotlib.pyplot as plt\n",
        "import seaborn as sns\n",
        "\n",
        "from sklearn.datasets import fetch_california_housing\n",
        "from sklearn.linear_model import LinearRegression\n",
        "\n",
        "from sklearn.model_selection import cross_validate\n",
        "from sklearn.model_selection import cross_val_score\n",
        "from sklearn.model_selection import learning_curve\n",
        "from sklearn.model_selection import ShuffleSplit\n",
        "\n",
        "from sklearn.metrics import mean_squared_error\n",
        "\n",
        "from sklearn.pipeline import Pipeline\n",
        "from sklearn.preprocessing import StandardScaler"
      ]
    },
    {
      "cell_type": "code",
      "source": [
        "np.random.seed(306)\n",
        "plt.style.use('seaborn')"
      ],
      "metadata": {
        "id": "wjddYe9yVq4b"
      },
      "execution_count": 2,
      "outputs": []
    },
    {
      "cell_type": "code",
      "source": [
        "shuffle_split_cv= ShuffleSplit(n_splits=10 , test_size=0.2, random_state =0)"
      ],
      "metadata": {
        "id": "mRD_L7M4Vq1D"
      },
      "execution_count": 3,
      "outputs": []
    },
    {
      "cell_type": "markdown",
      "source": [
        "# Step 1 Load Data"
      ],
      "metadata": {
        "id": "IS6c0UAA5uy5"
      }
    },
    {
      "cell_type": "code",
      "source": [
        "features, labels = fetch_california_housing(as_frame=True, return_X_y=True)"
      ],
      "metadata": {
        "id": "UCaSPishVqyg"
      },
      "execution_count": 4,
      "outputs": []
    },
    {
      "cell_type": "code",
      "source": [
        "print(\"Shape of feature matrix :\",features.shape)\n",
        "print(\"Shape of label matrix :\",labels.shape)"
      ],
      "metadata": {
        "id": "BZ1HVcTpVqv1",
        "colab": {
          "base_uri": "https://localhost:8080/"
        },
        "outputId": "e02711b3-0912-4a22-8bec-f500fb66d5e6"
      },
      "execution_count": 5,
      "outputs": [
        {
          "output_type": "stream",
          "name": "stdout",
          "text": [
            "Shape of feature matrix : (20640, 8)\n",
            "Shape of label matrix : (20640,)\n"
          ]
        }
      ]
    },
    {
      "cell_type": "code",
      "source": [
        "assert features.shape[0] == labels.shape[0]"
      ],
      "metadata": {
        "id": "5kmHfvEM7UCX"
      },
      "execution_count": 6,
      "outputs": []
    },
    {
      "cell_type": "markdown",
      "source": [
        "# Data preprocessing and model building"
      ],
      "metadata": {
        "id": "3fh3obec9x08"
      }
    },
    {
      "cell_type": "code",
      "source": [
        "from sklearn.model_selection import train_test_split\n",
        "train_features,test_features,train_labels,test_labels = train_test_split(features , labels , random_state=42)"
      ],
      "metadata": {
        "id": "TKoEk0H-7T-8"
      },
      "execution_count": 7,
      "outputs": []
    },
    {
      "cell_type": "code",
      "source": [
        "print(\"# training set\" ,train_features.shape[0])\n",
        "print(\"# testing set\" ,test_features.shape[0])"
      ],
      "metadata": {
        "colab": {
          "base_uri": "https://localhost:8080/"
        },
        "id": "cPZo2_OO-wls",
        "outputId": "98c7694b-1b15-408b-f5c4-17312425ecdf"
      },
      "execution_count": 8,
      "outputs": [
        {
          "output_type": "stream",
          "name": "stdout",
          "text": [
            "# training set 15480\n",
            "# testing set 5160\n"
          ]
        }
      ]
    },
    {
      "cell_type": "markdown",
      "source": [
        "**Pipeline : preprocessing + model**"
      ],
      "metadata": {
        "id": "vv8I8WG5BcTo"
      }
    },
    {
      "cell_type": "code",
      "source": [
        "lin_reg_pipeline= Pipeline([\n",
        "                            (\"feature scaling\",StandardScaler()),\n",
        "                            (\"lin_reg\",LinearRegression())\n",
        "])\n",
        "lin_reg_pipeline.fit(train_features,train_labels)"
      ],
      "metadata": {
        "colab": {
          "base_uri": "https://localhost:8080/"
        },
        "id": "jG3ltryH-wiJ",
        "outputId": "d5e01828-1f0e-4222-ddf5-cc4b7a9d4104"
      },
      "execution_count": 13,
      "outputs": [
        {
          "output_type": "execute_result",
          "data": {
            "text/plain": [
              "Pipeline(steps=[('feature scaling', StandardScaler()),\n",
              "                ('lin_reg', LinearRegression())])"
            ]
          },
          "metadata": {},
          "execution_count": 13
        }
      ]
    },
    {
      "cell_type": "markdown",
      "source": [
        "Now that we have trained the models . Lets check the learnt/estimated weight vector (intercept_ and coef_ )"
      ],
      "metadata": {
        "id": "yqM89mEWCudr"
      }
    },
    {
      "cell_type": "code",
      "source": [
        "print(\"intercept w_0\",lin_reg_pipeline[-1].intercept_)\n",
        "print(\" coefficient (w_1,w_2,....,w_m)\",lin_reg_pipeline[-1].coef_)"
      ],
      "metadata": {
        "colab": {
          "base_uri": "https://localhost:8080/"
        },
        "id": "e24YRiPWCh5W",
        "outputId": "c87dec7e-c935-4dd4-c946-52af121061b4"
      },
      "execution_count": 10,
      "outputs": [
        {
          "output_type": "stream",
          "name": "stdout",
          "text": [
            "intercept w_0 2.0703489205426377\n",
            " coefficient (w_1,w_2,....,w_m) [ 0.85210815  0.12065533 -0.30210555  0.34860575 -0.00164465 -0.04116356\n",
            " -0.89314697 -0.86784046]\n"
          ]
        }
      ]
    },
    {
      "cell_type": "markdown",
      "source": [
        "## **Model** **Evaluation**"
      ],
      "metadata": {
        "id": "j0VoAtTuD0lj"
      }
    },
    {
      "cell_type": "markdown",
      "source": [
        "# score"
      ],
      "metadata": {
        "id": "s0sxo-uMEAad"
      }
    },
    {
      "cell_type": "markdown",
      "source": [
        "let's use score method to obtain train and test errors with twin objectives"
      ],
      "metadata": {
        "id": "LImnMv6yEJKt"
      }
    },
    {
      "cell_type": "code",
      "source": [
        "test_score= lin_reg_pipeline.score(test_features , test_labels)\n",
        "print(\"Model perfoemance on test set:\",test_score)\n",
        "\n",
        "train_score= lin_reg_pipeline.score(train_features , train_labels)\n",
        "print(\"Model perfoemance on train set:\",train_score)\n",
        "\n"
      ],
      "metadata": {
        "colab": {
          "base_uri": "https://localhost:8080/"
        },
        "id": "XRi2uK-BD4EZ",
        "outputId": "88077a7a-f083-4d3c-a97e-b973c64ab146"
      },
      "execution_count": 14,
      "outputs": [
        {
          "output_type": "stream",
          "name": "stdout",
          "text": [
            "Model perfoemance on test set: 0.5910509795491352\n",
            "Model perfoemance on train set: 0.609873031052925\n"
          ]
        }
      ]
    },
    {
      "cell_type": "markdown",
      "source": [
        "The *score* method returns r2 score whose best value is 1. The r2 score on train and test are comparable but they are not that high . It points to underfitting in model training."
      ],
      "metadata": {
        "id": "lD2B_d4tFHWu"
      }
    },
    {
      "cell_type": "markdown",
      "source": [
        "# Cross validate score (cross_val_score)"
      ],
      "metadata": {
        "id": "7D11FAD9FqL8"
      }
    },
    {
      "cell_type": "code",
      "source": [
        "lin_reg_score = cross_val_score(lin_reg_pipeline,\n",
        "                                train_features,\n",
        "                                train_labels,\n",
        "                                scoring = 'neg_mean_squared_error',\n",
        "                                cv= shuffle_split_cv)\n",
        "\n",
        "#This will return !0 different scores one for each fold\n",
        "print(lin_reg_score)\n",
        "\n",
        "# we can take mean and standard deviation of the score and report it\n",
        "print(f\"\\n score of linear regression model on the test set :\\n\"\n",
        "      f\"{lin_reg_score.mean(): .3f} +/- {lin_reg_score.std(): .3f}\")"
      ],
      "metadata": {
        "colab": {
          "base_uri": "https://localhost:8080/"
        },
        "id": "s3bStPcPFp6X",
        "outputId": "98efe747-25f1-4faf-fa78-dc112661f070"
      },
      "execution_count": 23,
      "outputs": [
        {
          "output_type": "stream",
          "name": "stdout",
          "text": [
            "[-0.50009976 -0.52183352 -0.55931218 -0.52110499 -0.56059203 -0.50510767\n",
            " -0.52386194 -0.54775518 -0.5007161  -0.54713448]\n",
            "\n",
            " score of linear regression model on the test set :\n",
            "-0.529 +/-  0.022\n"
          ]
        }
      ]
    },
    {
      "cell_type": "markdown",
      "source": [
        "Now we convert the score into the error as follows ⚡"
      ],
      "metadata": {
        "id": "_680Q67jF5Jo"
      }
    },
    {
      "cell_type": "code",
      "source": [
        "lin_reg_mse= -lin_reg_score\n",
        "print(f\"mse of linear regression model on the test set :\\n\"\n",
        "      f\"{lin_reg_mse.mean(): .3f} +/- {lin_reg_mse.std(): .3f}\")"
      ],
      "metadata": {
        "id": "gR6ncqCeFAuL",
        "colab": {
          "base_uri": "https://localhost:8080/"
        },
        "outputId": "08e38582-7f7c-4d47-bedb-252937d96cdc"
      },
      "execution_count": 24,
      "outputs": [
        {
          "output_type": "stream",
          "name": "stdout",
          "text": [
            "mse of linear regression model on the test set :\n",
            " 0.529 +/-  0.022\n"
          ]
        }
      ]
    },
    {
      "cell_type": "markdown",
      "source": [
        "# Cross Validation"
      ],
      "metadata": {
        "id": "He3SSzH0HJ-d"
      }
    },
    {
      "cell_type": "markdown",
      "source": [
        "we just calculated cross_val_score based on cross validation. It however returns only score for each fold .what if we also need to access the models trained in each fold along with some other statistics like train error for that fold?\n",
        "\n",
        "**cross_validate** API to obtain them\n"
      ],
      "metadata": {
        "id": "0BrPi-l2HS5O"
      }
    },
    {
      "cell_type": "code",
      "source": [
        "lin_reg_cv_results= cross_validate(lin_reg_pipeline,\n",
        "                                   train_features,\n",
        "                                   train_labels,\n",
        "                                   cv=shuffle_split_cv,\n",
        "                                   scoring=(\"neg_mean_squared_error\"),\n",
        "                                   return_train_score = True,\n",
        "                                   return_estimator = True,\n",
        "                                   )"
      ],
      "metadata": {
        "id": "twrFsO83HT9c"
      },
      "execution_count": 20,
      "outputs": []
    },
    {
      "cell_type": "markdown",
      "source": [
        "The lin_reg_cv_results is a dictionary with following contents:\n",
        "\n",
        "*   trained_estimators\n",
        "*   time taken for fitting (fit_time) and scoring(score_time) the models in cross validation,\n",
        "*   training score(train_score) and \n",
        "*   test scores (test_score\n",
        "\n"
      ],
      "metadata": {
        "id": "q-N4E1NaJOJW"
      }
    },
    {
      "cell_type": "code",
      "source": [
        "lin_reg_cv_results"
      ],
      "metadata": {
        "colab": {
          "base_uri": "https://localhost:8080/"
        },
        "id": "bIcf4SKGJN3c",
        "outputId": "55264968-58d9-4d9d-be5e-6a5d34602e19"
      },
      "execution_count": 21,
      "outputs": [
        {
          "output_type": "execute_result",
          "data": {
            "text/plain": [
              "{'estimator': [Pipeline(steps=[('feature scaling', StandardScaler()),\n",
              "                  ('lin_reg', LinearRegression())]),\n",
              "  Pipeline(steps=[('feature scaling', StandardScaler()),\n",
              "                  ('lin_reg', LinearRegression())]),\n",
              "  Pipeline(steps=[('feature scaling', StandardScaler()),\n",
              "                  ('lin_reg', LinearRegression())]),\n",
              "  Pipeline(steps=[('feature scaling', StandardScaler()),\n",
              "                  ('lin_reg', LinearRegression())]),\n",
              "  Pipeline(steps=[('feature scaling', StandardScaler()),\n",
              "                  ('lin_reg', LinearRegression())]),\n",
              "  Pipeline(steps=[('feature scaling', StandardScaler()),\n",
              "                  ('lin_reg', LinearRegression())]),\n",
              "  Pipeline(steps=[('feature scaling', StandardScaler()),\n",
              "                  ('lin_reg', LinearRegression())]),\n",
              "  Pipeline(steps=[('feature scaling', StandardScaler()),\n",
              "                  ('lin_reg', LinearRegression())]),\n",
              "  Pipeline(steps=[('feature scaling', StandardScaler()),\n",
              "                  ('lin_reg', LinearRegression())]),\n",
              "  Pipeline(steps=[('feature scaling', StandardScaler()),\n",
              "                  ('lin_reg', LinearRegression())])],\n",
              " 'fit_time': array([0.02049589, 0.03634667, 0.03223777, 0.03199744, 0.01447463,\n",
              "        0.01407647, 0.0287652 , 0.03633523, 0.03675246, 0.04001379]),\n",
              " 'score_time': array([0.00432253, 0.0091629 , 0.00879741, 0.009094  , 0.00377226,\n",
              "        0.00391912, 0.00860214, 0.00995755, 0.009166  , 0.01044631]),\n",
              " 'test_score': array([-0.50009976, -0.52183352, -0.55931218, -0.52110499, -0.56059203,\n",
              "        -0.50510767, -0.52386194, -0.54775518, -0.5007161 , -0.54713448]),\n",
              " 'train_score': array([-0.52578695, -0.52035137, -0.51095597, -0.52049611, -0.51060835,\n",
              "        -0.52453922, -0.51994311, -0.5144039 , -0.52578473, -0.51397105])}"
            ]
          },
          "metadata": {},
          "execution_count": 21
        }
      ]
    },
    {
      "cell_type": "markdown",
      "source": [
        "⛓ We compare training and test error to access generalisation process of our model. However training and test score is in lin_reg_cv_result. Multiply these score by -1 to get the error."
      ],
      "metadata": {
        "id": "U3-HTecnlvQz"
      }
    },
    {
      "cell_type": "code",
      "source": [
        "train_error = -1 * lin_reg_cv_results['train_score']\n",
        "test_error = -1 * lin_reg_cv_results['test_score']\n",
        "print(f\"mean squarred error of linear regression model on the train set :\\n\"\n",
        "      f\"{train_error.mean(): .3f} +/- {train_error.std(): .3f}\")\n",
        "print(f\"mean squarred error of linear regression model on the test set :\\n\"\n",
        "      f\"{test_error.mean(): .3f} +/- {test_error.std(): .3f}\")"
      ],
      "metadata": {
        "colab": {
          "base_uri": "https://localhost:8080/"
        },
        "id": "YiWWBS0em4kR",
        "outputId": "b53e56a7-2528-433a-8cd8-e3dab0133710"
      },
      "execution_count": 22,
      "outputs": [
        {
          "output_type": "stream",
          "name": "stdout",
          "text": [
            "mean squarred error of linear regression model on the train set :\n",
            " 0.519 +/-  0.006\n",
            "mean squarred error of linear regression model on the test set :\n",
            " 0.529 +/-  0.022\n"
          ]
        }
      ]
    },
    {
      "cell_type": "markdown",
      "source": [
        "The trainning and test error are high ,which an indication of under fitting, which we will confirm by plotting the learning curve.\n"
      ],
      "metadata": {
        "id": "C21QiKHJrYFf"
      }
    },
    {
      "cell_type": "markdown",
      "source": [
        "# Effect of training set size on error"
      ],
      "metadata": {
        "id": "jB6cjGZQsMwx"
      }
    },
    {
      "cell_type": "code",
      "source": [
        "def plot_learning_curve(train_sizes, train_score, test_score ):\n",
        "  train_score_mean = np.mean(-train_score, axis=1)\n",
        "  train_score_std = np.std(-train_score, axis=1)\n",
        "  test_score_mean = np.mean(-test_score, axis=1)\n",
        "  test_score_std = np.std(-test_score, axis=1)\n",
        "  fit_times_mean = np.mean(fit_times, axis=1)\n",
        "  fit_times_std = np.std(fit_times, axis=1)\n",
        "\n",
        "  plt.fill_between(\n",
        "      train_sizes,\n",
        "      train_score_mean - train_score_std,\n",
        "      train_score_mean + train_score_std,\n",
        "      alpha= 0.1,\n",
        "      color=\"r\" ,)\n",
        "  plt.fill_between(\n",
        "      train_sizes,\n",
        "      test_score_mean - test_score_std,\n",
        "      test_score_mean + test_score_std,\n",
        "      alpha= 0.1,\n",
        "      color=\"g\" ,)\n",
        "  plt.plot(train_sizes,train_score_mean,\"o-\",color=\"r\",label= \"Training Score\")\n",
        "  plt.plot(train_sizes,test_score_mean,\"o-\",color=\"g\", label= \"cross validation score\") \n",
        "  plt.xlabel(\"Training Example\")\n",
        "  plt.ylabel(\"MSE\")\n",
        "  plt.legend(loc=\"best\")\n",
        "  \n",
        " "
      ],
      "metadata": {
        "id": "TPhzn3nHKHTB"
      },
      "execution_count": 16,
      "outputs": []
    },
    {
      "cell_type": "code",
      "source": [
        "(train_sizes, train_score, test_score, fit_times, score_times)= \\\n",
        "  learning_curve(\n",
        "      lin_reg_pipeline, train_features, train_labels, cv = shuffle_split_cv,\n",
        "      scoring= \"neg_mean_squared_error\", n_jobs= -1,\n",
        "      return_times= True, train_sizes = np.linspace(0.2, 1.0, 10))\n",
        "  \n",
        "plot_learning_curve(train_sizes,train_score, test_score)"
      ],
      "metadata": {
        "colab": {
          "base_uri": "https://localhost:8080/",
          "height": 361
        },
        "id": "29PFpqYJSG7U",
        "outputId": "82840f90-089c-40f0-fd63-aa8310dcf6b5"
      },
      "execution_count": 29,
      "outputs": [
        {
          "output_type": "display_data",
          "data": {
            "image/png": "[encoded data removed]",
            "text/plain": [
              "<Figure size 576x396 with 1 Axes>"
            ]
          },
          "metadata": {}
        }
      ]
    },
    {
      "cell_type": "markdown",
      "source": [
        "# Model Examination"
      ],
      "metadata": {
        "id": "_0qj8lESXr-j"
      }
    },
    {
      "cell_type": "markdown",
      "source": [
        "Lets examine the weight vectors and how much variability exist between them across different cross validated models"
      ],
      "metadata": {
        "id": "HiwYLVoYX4vK"
      }
    },
    {
      "cell_type": "code",
      "source": [
        "feature_names = train_features.columns\n",
        "feature_names"
      ],
      "metadata": {
        "colab": {
          "base_uri": "https://localhost:8080/"
        },
        "id": "GXy60A6vXrtl",
        "outputId": "718cf5d6-0a99-42d8-fa78-c8f6b5a84000"
      },
      "execution_count": 25,
      "outputs": [
        {
          "output_type": "execute_result",
          "data": {
            "text/plain": [
              "Index(['MedInc', 'HouseAge', 'AveRooms', 'AveBedrms', 'Population', 'AveOccup',\n",
              "       'Latitude', 'Longitude'],\n",
              "      dtype='object')"
            ]
          },
          "metadata": {},
          "execution_count": 25
        }
      ]
    },
    {
      "cell_type": "code",
      "source": [
        "coefs = [est[-1].coef_ for est in lin_reg_cv_results[\"estimator\"]]\n",
        "weight_df = pd.DataFrame(coefs, columns= feature_names)\n",
        "\n",
        "color = {\"whiskers\": \"black\", \"medians\": \"black\", \"caps\": \"black\"}\n",
        "weight_df.plot.box(color = color, vert= False)\n",
        "_ = plt.title(\"Linear Regression coefficients\")"
      ],
      "metadata": {
        "colab": {
          "base_uri": "https://localhost:8080/",
          "height": 362
        },
        "id": "-KELotN-Yjhc",
        "outputId": "9cc6c985-cfe4-45ad-b00f-254e4425852f"
      },
      "execution_count": 26,
      "outputs": [
        {
          "output_type": "display_data",
          "data": {
            "image/png": "[encoded data removed]",
            "text/plain": [
              "<Figure size 576x396 with 1 Axes>"
            ]
          },
          "metadata": {}
        }
      ]
    },
    {
      "cell_type": "markdown",
      "source": [
        "There is not much variability in weights learned by different models. It can also by standard deviation of weight as seen in **std** row below:\n"
      ],
      "metadata": {
        "id": "ZMqtDGd3aQ6N"
      }
    },
    {
      "cell_type": "code",
      "source": [
        "weight_df.describe()"
      ],
      "metadata": {
        "colab": {
          "base_uri": "https://localhost:8080/",
          "height": 300
        },
        "id": "ayIWjCzMazvY",
        "outputId": "6bda4d31-749d-4138-9bf7-aa0ad30b43fb"
      },
      "execution_count": 30,
      "outputs": [
        {
          "output_type": "execute_result",
          "data": {
            "text/html": [
              "\n",
              "  <div id=\"df-594a1073-60f4-4474-bc5a-31caf8212c58\">\n",
              "    <div class=\"colab-df-container\">\n",
              "      <div>\n",
              "<style scoped>\n",
              "    .dataframe tbody tr th:only-of-type {\n",
              "        vertical-align: middle;\n",
              "    }\n",
              "\n",
              "    .dataframe tbody tr th {\n",
              "        vertical-align: top;\n",
              "    }\n",
              "\n",
              "    .dataframe thead th {\n",
              "        text-align: right;\n",
              "    }\n",
              "</style>\n",
              "<table border=\"1\" class=\"dataframe\">\n",
              "  <thead>\n",
              "    <tr style=\"text-align: right;\">\n",
              "      <th></th>\n",
              "      <th>MedInc</th>\n",
              "      <th>HouseAge</th>\n",
              "      <th>AveRooms</th>\n",
              "      <th>AveBedrms</th>\n",
              "      <th>Population</th>\n",
              "      <th>AveOccup</th>\n",
              "      <th>Latitude</th>\n",
              "      <th>Longitude</th>\n",
              "    </tr>\n",
              "  </thead>\n",
              "  <tbody>\n",
              "    <tr>\n",
              "      <th>count</th>\n",
              "      <td>10.000000</td>\n",
              "      <td>10.000000</td>\n",
              "      <td>10.000000</td>\n",
              "      <td>10.000000</td>\n",
              "      <td>10.000000</td>\n",
              "      <td>10.000000</td>\n",
              "      <td>10.000000</td>\n",
              "      <td>10.000000</td>\n",
              "    </tr>\n",
              "    <tr>\n",
              "      <th>mean</th>\n",
              "      <td>0.852153</td>\n",
              "      <td>0.122770</td>\n",
              "      <td>-0.304384</td>\n",
              "      <td>0.353528</td>\n",
              "      <td>-0.001576</td>\n",
              "      <td>-0.037059</td>\n",
              "      <td>-0.894011</td>\n",
              "      <td>-0.869753</td>\n",
              "    </tr>\n",
              "    <tr>\n",
              "      <th>std</th>\n",
              "      <td>0.005763</td>\n",
              "      <td>0.004312</td>\n",
              "      <td>0.010998</td>\n",
              "      <td>0.018044</td>\n",
              "      <td>0.003254</td>\n",
              "      <td>0.008582</td>\n",
              "      <td>0.009975</td>\n",
              "      <td>0.009097</td>\n",
              "    </tr>\n",
              "    <tr>\n",
              "      <th>min</th>\n",
              "      <td>0.843517</td>\n",
              "      <td>0.117394</td>\n",
              "      <td>-0.318971</td>\n",
              "      <td>0.307474</td>\n",
              "      <td>-0.005787</td>\n",
              "      <td>-0.047584</td>\n",
              "      <td>-0.908058</td>\n",
              "      <td>-0.884206</td>\n",
              "    </tr>\n",
              "    <tr>\n",
              "      <th>25%</th>\n",
              "      <td>0.848871</td>\n",
              "      <td>0.119895</td>\n",
              "      <td>-0.310778</td>\n",
              "      <td>0.349715</td>\n",
              "      <td>-0.002688</td>\n",
              "      <td>-0.042486</td>\n",
              "      <td>-0.901411</td>\n",
              "      <td>-0.876542</td>\n",
              "    </tr>\n",
              "    <tr>\n",
              "      <th>50%</th>\n",
              "      <td>0.852711</td>\n",
              "      <td>0.121592</td>\n",
              "      <td>-0.305795</td>\n",
              "      <td>0.360139</td>\n",
              "      <td>-0.002063</td>\n",
              "      <td>-0.042325</td>\n",
              "      <td>-0.895370</td>\n",
              "      <td>-0.869631</td>\n",
              "    </tr>\n",
              "    <tr>\n",
              "      <th>75%</th>\n",
              "      <td>0.854743</td>\n",
              "      <td>0.125520</td>\n",
              "      <td>-0.302980</td>\n",
              "      <td>0.364646</td>\n",
              "      <td>-0.000350</td>\n",
              "      <td>-0.027562</td>\n",
              "      <td>-0.883967</td>\n",
              "      <td>-0.862110</td>\n",
              "    </tr>\n",
              "    <tr>\n",
              "      <th>max</th>\n",
              "      <td>0.861659</td>\n",
              "      <td>0.130560</td>\n",
              "      <td>-0.278426</td>\n",
              "      <td>0.367952</td>\n",
              "      <td>0.005297</td>\n",
              "      <td>-0.026331</td>\n",
              "      <td>-0.881884</td>\n",
              "      <td>-0.857844</td>\n",
              "    </tr>\n",
              "  </tbody>\n",
              "</table>\n",
              "</div>\n",
              "      <button class=\"colab-df-convert\" onclick=\"convertToInteractive('df-594a1073-60f4-4474-bc5a-31caf8212c58')\"\n",
              "              title=\"Convert this dataframe to an interactive table.\"\n",
              "              style=\"display:none;\">\n",
              "        \n",
              "  <svg xmlns=\"http://www.w3.org/2000/svg\" height=\"24px\"viewBox=\"0 0 24 24\"\n",
              "       width=\"24px\">\n",
              "    <path d=\"M0 0h24v24H0V0z\" fill=\"none\"/>\n",
              "    <path d=\"M18.56 5.44l.94 2.06.94-2.06 2.06-.94-2.06-.94-.94-2.06-.94 2.06-2.06.94zm-11 1L8.5 8.5l.94-2.06 2.06-.94-2.06-.94L8.5 2.5l-.94 2.06-2.06.94zm10 10l.94 2.06.94-2.06 2.06-.94-2.06-.94-.94-2.06-.94 2.06-2.06.94z\"/><path d=\"M17.41 7.96l-1.37-1.37c-.4-.4-.92-.59-1.43-.59-.52 0-1.04.2-1.43.59L10.3 9.45l-7.72 7.72c-.78.78-.78 2.05 0 2.83L4 21.41c.39.39.9.59 1.41.59.51 0 1.02-.2 1.41-.59l7.78-7.78 2.81-2.81c.8-.78.8-2.07 0-2.86zM5.41 20L4 18.59l7.72-7.72 1.47 1.35L5.41 20z\"/>\n",
              "  </svg>\n",
              "      </button>\n",
              "      \n",
              "  <style>\n",
              "    .colab-df-container {\n",
              "      display:flex;\n",
              "      flex-wrap:wrap;\n",
              "      gap: 12px;\n",
              "    }\n",
              "\n",
              "    .colab-df-convert {\n",
              "      background-color: #E8F0FE;\n",
              "      border: none;\n",
              "      border-radius: 50%;\n",
              "      cursor: pointer;\n",
              "      display: none;\n",
              "      fill: #1967D2;\n",
              "      height: 32px;\n",
              "      padding: 0 0 0 0;\n",
              "      width: 32px;\n",
              "    }\n",
              "\n",
              "    .colab-df-convert:hover {\n",
              "      background-color: #E2EBFA;\n",
              "      box-shadow: 0px 1px 2px rgba(60, 64, 67, 0.3), 0px 1px 3px 1px rgba(60, 64, 67, 0.15);\n",
              "      fill: #174EA6;\n",
              "    }\n",
              "\n",
              "    [theme=dark] .colab-df-convert {\n",
              "      background-color: #3B4455;\n",
              "      fill: #D2E3FC;\n",
              "    }\n",
              "\n",
              "    [theme=dark] .colab-df-convert:hover {\n",
              "      background-color: #434B5C;\n",
              "      box-shadow: 0px 1px 3px 1px rgba(0, 0, 0, 0.15);\n",
              "      filter: drop-shadow(0px 1px 2px rgba(0, 0, 0, 0.3));\n",
              "      fill: #FFFFFF;\n",
              "    }\n",
              "  </style>\n",
              "\n",
              "      <script>\n",
              "        const buttonEl =\n",
              "          document.querySelector('#df-594a1073-60f4-4474-bc5a-31caf8212c58 button.colab-df-convert');\n",
              "        buttonEl.style.display =\n",
              "          google.colab.kernel.accessAllowed ? 'block' : 'none';\n",
              "\n",
              "        async function convertToInteractive(key) {\n",
              "          const element = document.querySelector('#df-594a1073-60f4-4474-bc5a-31caf8212c58');\n",
              "          const dataTable =\n",
              "            await google.colab.kernel.invokeFunction('convertToInteractive',\n",
              "                                                     [key], {});\n",
              "          if (!dataTable) return;\n",
              "\n",
              "          const docLinkHtml = 'Like what you see? Visit the ' +\n",
              "            '<a target=\"_blank\" href=https://colab.research.google.com/notebooks/data_table.ipynb>data table notebook</a>'\n",
              "            + ' to learn more about interactive tables.';\n",
              "          element.innerHTML = '';\n",
              "          dataTable['output_type'] = 'display_data';\n",
              "          await google.colab.output.renderOutput(dataTable, element);\n",
              "          const docLink = document.createElement('div');\n",
              "          docLink.innerHTML = docLinkHtml;\n",
              "          element.appendChild(docLink);\n",
              "        }\n",
              "      </script>\n",
              "    </div>\n",
              "  </div>\n",
              "  "
            ],
            "text/plain": [
              "          MedInc   HouseAge   AveRooms  ...   AveOccup   Latitude  Longitude\n",
              "count  10.000000  10.000000  10.000000  ...  10.000000  10.000000  10.000000\n",
              "mean    0.852153   0.122770  -0.304384  ...  -0.037059  -0.894011  -0.869753\n",
              "std     0.005763   0.004312   0.010998  ...   0.008582   0.009975   0.009097\n",
              "min     0.843517   0.117394  -0.318971  ...  -0.047584  -0.908058  -0.884206\n",
              "25%     0.848871   0.119895  -0.310778  ...  -0.042486  -0.901411  -0.876542\n",
              "50%     0.852711   0.121592  -0.305795  ...  -0.042325  -0.895370  -0.869631\n",
              "75%     0.854743   0.125520  -0.302980  ...  -0.027562  -0.883967  -0.862110\n",
              "max     0.861659   0.130560  -0.278426  ...  -0.026331  -0.881884  -0.857844\n",
              "\n",
              "[8 rows x 8 columns]"
            ]
          },
          "metadata": {},
          "execution_count": 30
        }
      ]
    },
    {
      "cell_type": "markdown",
      "source": [
        "# Selecting Best Model"
      ],
      "metadata": {
        "id": "nWJKvfUrbACc"
      }
    },
    {
      "cell_type": "markdown",
      "source": [
        "Lets select the model with lowest cross validate test error as the best performing model. "
      ],
      "metadata": {
        "id": "ArjLnBIYbJuy"
      }
    },
    {
      "cell_type": "code",
      "source": [
        "# lets find out the best model that resulted in least test error\n",
        "best_model_index = np.argmin(test_error)\n",
        "selected_model = lin_reg_cv_results['estimator'][best_model_index]"
      ],
      "metadata": {
        "id": "9c_L3MEqa89T"
      },
      "execution_count": 32,
      "outputs": []
    },
    {
      "cell_type": "markdown",
      "source": [
        "Lets examine the model coefficients"
      ],
      "metadata": {
        "id": "efdSFeQc37F5"
      }
    },
    {
      "cell_type": "code",
      "source": [
        "print(\"Intercept (w_0) :\", selected_model['lin_reg'].intercept_)\n",
        "print(\"coefficient (w_0,w_1,...,w_m) :\", selected_model['lin_reg'].coef_)"
      ],
      "metadata": {
        "id": "A-rXqhZBcDcl",
        "colab": {
          "base_uri": "https://localhost:8080/"
        },
        "outputId": "b2b5e3d1-cbfd-460f-cb36-2451ff95dcf0"
      },
      "execution_count": 36,
      "outputs": [
        {
          "output_type": "stream",
          "name": "stdout",
          "text": [
            "Intercept (w_0) : 2.0779898917958657\n",
            "coefficient (w_0,w_1,...,w_m) : [ 8.44324888e-01  1.18463901e-01 -3.04619574e-01  3.56620503e-01\n",
            "  1.74458509e-04 -4.23964612e-02 -8.96045642e-01 -8.68906479e-01]\n"
          ]
        }
      ]
    },
    {
      "cell_type": "markdown",
      "source": [
        "# Model Performance"
      ],
      "metadata": {
        "id": "0-OLg2IA4-bm"
      }
    },
    {
      "cell_type": "code",
      "source": [
        "from sklearn.model_selection import cross_val_predict\n",
        "cv_predictions = cross_val_predict(lin_reg_pipeline, train_features, train_labels)"
      ],
      "metadata": {
        "id": "oD-SvLAq44SW"
      },
      "execution_count": 37,
      "outputs": []
    },
    {
      "cell_type": "code",
      "source": [
        "mse_cv = mean_squared_error(train_labels, cv_predictions)\n",
        "\n",
        "plt.scatter(train_labels, cv_predictions, color= 'blue')\n",
        "plt.plot(train_labels, train_labels, 'r-')\n",
        "plt.title(f\"Mean squared error = {mse_cv: .2f}\",size=24)\n",
        "plt.xlabel('Actual Median House value', size=15)\n",
        "plt.ylabel('Predicted Median House value', size=15)\n",
        "plt.show()"
      ],
      "metadata": {
        "colab": {
          "base_uri": "https://localhost:8080/",
          "height": 388
        },
        "id": "sjRGOVy25dde",
        "outputId": "04aa7433-3bbc-4aa8-9374-1d706a148e25"
      },
      "execution_count": 38,
      "outputs": [
        {
          "output_type": "display_data",
          "data": {
            "image/png": "[encoded data removed]",
            "text/plain": [
              "<Figure size 576x396 with 1 Axes>"
            ]
          },
          "metadata": {}
        }
      ]
    },
    {
      "cell_type": "markdown",
      "source": [
        "# Prediction"
      ],
      "metadata": {
        "id": "rUGBbO1B7nx1"
      }
    },
    {
      "cell_type": "code",
      "source": [
        "test_predictions_cv = selected_model.predict(test_features)\n",
        "test_predictions_cv[:5]"
      ],
      "metadata": {
        "colab": {
          "base_uri": "https://localhost:8080/"
        },
        "id": "EMnTSlaA7rLi",
        "outputId": "bb6150be-11b7-4598-de5c-649ca45f148f"
      },
      "execution_count": 39,
      "outputs": [
        {
          "output_type": "execute_result",
          "data": {
            "text/plain": [
              "array([0.73548515, 1.7725621 , 2.70011199, 2.83716602, 2.60743151])"
            ]
          },
          "metadata": {},
          "execution_count": 39
        }
      ]
    },
    {
      "cell_type": "markdown",
      "source": [
        "we can also obtain predictions using initial model that we build without cross validation."
      ],
      "metadata": {
        "id": "u-S0GSxF8AAC"
      }
    },
    {
      "cell_type": "code",
      "source": [
        "test_prediction = lin_reg_pipeline.predict(test_features)\n",
        "test_prediction[:5]"
      ],
      "metadata": {
        "colab": {
          "base_uri": "https://localhost:8080/"
        },
        "id": "lCDK4Y_4786I",
        "outputId": "e97df865-fdc1-42cf-c3c2-3bba9671e4e8"
      },
      "execution_count": 49,
      "outputs": [
        {
          "output_type": "execute_result",
          "data": {
            "text/plain": [
              "array([0.72412832, 1.76677807, 2.71151581, 2.83601179, 2.603755  ])"
            ]
          },
          "metadata": {},
          "execution_count": 49
        }
      ]
    },
    {
      "cell_type": "markdown",
      "source": [
        "# Report model performance"
      ],
      "metadata": {
        "id": "TjRHR0g688XQ"
      }
    },
    {
      "cell_type": "markdown",
      "source": [
        "we report model performance on test set"
      ],
      "metadata": {
        "id": "Mh872KG09J4C"
      }
    },
    {
      "cell_type": "code",
      "source": [
        "score_cv = selected_model.score(test_features, test_labels)\n",
        "score = lin_reg_pipeline.score(test_features, test_labels)\n",
        "\n",
        "print(\"R2 score for the best model obtain via cross validation :\", score_cv)\n",
        "print(\"R2 score for the best model without cross validation :\", score)"
      ],
      "metadata": {
        "colab": {
          "base_uri": "https://localhost:8080/"
        },
        "id": "duTcxO6x9NpR",
        "outputId": "c2afba19-9793-4688-f935-ab012de80dbe"
      },
      "execution_count": 51,
      "outputs": [
        {
          "output_type": "stream",
          "name": "stdout",
          "text": [
            "R2 score for the best model obtain via cross validation : 0.5923577635319088\n",
            "R2 score for the best model without cross validation : 0.5910509795491352\n"
          ]
        }
      ]
    },
    {
      "cell_type": "markdown",
      "source": [
        "Alternatively we can use any other metric of interest and report performance based on that. For example the mean squared error is as follows:"
      ],
      "metadata": {
        "id": "4RL5SvCo-A3P"
      }
    },
    {
      "cell_type": "code",
      "source": [
        "mse= mean_squared_error(test_labels, test_prediction)\n",
        "mse_cv = mean_squared_error(test_labels, test_predictions_cv)\n",
        "\n",
        "print(\"MSE for the best model obtain via cross validation :\", mse_cv)\n",
        "print(\"MSE for the best model without cross validation :\", mse)"
      ],
      "metadata": {
        "colab": {
          "base_uri": "https://localhost:8080/"
        },
        "id": "gtJGQGo494w_",
        "outputId": "69e3b128-9dbd-463d-8cbd-95fddf8c82e9"
      },
      "execution_count": 52,
      "outputs": [
        {
          "output_type": "stream",
          "name": "stdout",
          "text": [
            "MSE for the best model obtain via cross validation : 0.5393995876218523\n",
            "MSE for the best model without cross validation : 0.5411287478470688\n"
          ]
        }
      ]
    },
    {
      "cell_type": "markdown",
      "source": [
        "⚖ The cross validation based model has slightly better MSE than other model"
      ],
      "metadata": {
        "id": "iRxS3mHN--W8"
      }
    }
  ]
}